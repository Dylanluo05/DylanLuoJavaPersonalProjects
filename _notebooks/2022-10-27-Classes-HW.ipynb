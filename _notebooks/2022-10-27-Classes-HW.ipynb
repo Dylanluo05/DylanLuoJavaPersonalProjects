{
 "cells": [
  {
   "cell_type": "markdown",
   "metadata": {},
   "source": [
    "# Writing Classes HW Post\n",
    "> Writing Classes HW\n",
    "\n",
    "- toc: true\n",
    "- description: Writing classes HW post for AP CSA\n",
    "- categories: [jupyter]\n",
    "- title: Writing Classes HW Post\n",
    "- author: Dylan Luo\n",
    "- show_tags: true\n",
    "- comments: true"
   ]
  },
  {
   "cell_type": "markdown",
   "metadata": {},
   "source": [
    "2021 FRQ 1a"
   ]
  },
  {
   "cell_type": "code",
   "execution_count": null,
   "metadata": {},
   "outputs": [],
   "source": [
    "public class WordMatch {\n",
    "    public int scoreGuess(String guess)​ {​\n",
    "        int val = 0;​\n",
    "        int len = guess.length();​\n",
    "        for( int i = 0; i <= secret.length()-len; i+=1)​ {​\n",
    "        String ck = secret.substring(i, i+len);​\n",
    "        if(ck.equals(guess)) {​\n",
    "            val++;​\n",
    "        }\n",
    "        ​\n",
    "        return val*len*len;​\n",
    "    }\n",
    "    }\n",
    "}\n",
    "\n",
    "/*public class runProgram {\n",
    "    public static void main(String[] args) {\n",
    "\n",
    "    }\n",
    "}\n",
    "\n",
    "runProgram.main(null);*/"
   ]
  },
  {
   "cell_type": "markdown",
   "metadata": {},
   "source": [
    "2021 FRQ 3a"
   ]
  },
  {
   "cell_type": "code",
   "execution_count": null,
   "metadata": {},
   "outputs": [],
   "source": [
    "public class ClubMembers {\n",
    "    public void addMembers(String[] names, int gradYear )​ {​\n",
    "        for( String n : names )​ {​\n",
    "            memberList.add( new MemberInfo( n, gradYear, true) );​\n",
    "        }​\n",
    "    } \n",
    "}"
   ]
  }
 ],
 "metadata": {
  "kernelspec": {
   "display_name": "Java",
   "language": "java",
   "name": "java"
  },
  "language_info": {
   "name": "java",
   "version": "3.8.10"
  },
  "orig_nbformat": 4,
  "vscode": {
   "interpreter": {
    "hash": "916dbcbb3f70747c44a77c7bcd40155683ae19c65e1c03b4aa3499c5328201f1"
   }
  }
 },
 "nbformat": 4,
 "nbformat_minor": 2
}
