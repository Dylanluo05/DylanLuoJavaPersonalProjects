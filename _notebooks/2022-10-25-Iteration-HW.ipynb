{
 "cells": [
  {
   "cell_type": "markdown",
   "metadata": {},
   "source": [
    "# Iteration HW Post\n",
    "> Iteration HW\n",
    "\n",
    "- toc: true\n",
    "- description: Iteration HW post for AP CSA\n",
    "- categories: [jupyter]\n",
    "- title: Iteration HW Post\n",
    "- author: Dylan Luo\n",
    "- show_tags: true\n",
    "- comments: true"
   ]
  },
  {
   "cell_type": "markdown",
   "metadata": {},
   "source": [
    "Write a program where a random number is generated. Then the user tries to guess the number. If they guess too high display something to let them know, and same for if they guess a number that is too low. The loop must iterate until the number is guessed correctly."
   ]
  },
  {
   "cell_type": "code",
   "execution_count": 1,
   "metadata": {},
   "outputs": [
    {
     "name": "stdout",
     "output_type": "stream",
     "text": [
      "Guess an integer from 1 to 100\n",
      "50\n",
      "Too low\n",
      "Guess again\n",
      "75\n",
      "Too low\n",
      "Guess again\n",
      "87\n",
      "Too high\n",
      "Guess again\n",
      "81\n",
      "Too high\n",
      "Guess again\n",
      "78\n",
      "Too low\n",
      "Guess again\n",
      "79\n",
      "Too low\n",
      "Guess again\n",
      "80\n",
      "Congratulations, you guessed correctly!\n"
     ]
    }
   ],
   "source": [
    "import java.util.Scanner;\n",
    "import java.util.Random;\n",
    "\n",
    "public class Iteration {\n",
    "    Random randNumber = new Random();\n",
    "    int randomNumber = randNumber.nextInt(100 - 1) + 1;\n",
    "    Scanner userInput = new Scanner(System.in);\n",
    "\n",
    "    public void play() {\n",
    "        System.out.println(\"Guess an integer from 1 to 100\");\n",
    "        int guess = userInput.nextInt();\n",
    "        System.out.println(guess);\n",
    "        checkGuess(guess);\n",
    "    }\n",
    "\n",
    "    public int checkGuess(int guess) {\n",
    "        if (guess == randomNumber) {\n",
    "            System.out.println(\"Congratulations, you guessed correctly!\");\n",
    "            return guess;\n",
    "        } else if (guess < randomNumber) {\n",
    "            System.out.println(\"Too low\");\n",
    "            System.out.println(\"Guess again\");\n",
    "            int guess2 = userInput.nextInt();\n",
    "            System.out.println(guess2);\n",
    "            checkGuess(guess2);\n",
    "        } else if (guess > randomNumber) {\n",
    "            System.out.println(\"Too high\");\n",
    "            System.out.println(\"Guess again\");\n",
    "            int guess2 = userInput.nextInt();\n",
    "            System.out.println(guess2);\n",
    "            checkGuess(guess2);\n",
    "        }\n",
    "        return guess;\n",
    "    }\n",
    "}\n",
    "\n",
    "public class runProgram {\n",
    "    public static void main(String[] args) {\n",
    "        Iteration i = new Iteration();\n",
    "        i.play();\n",
    "    }\n",
    "}\n",
    "\n",
    "runProgram.main(null);"
   ]
  }
 ],
 "metadata": {
  "kernelspec": {
   "display_name": "Java",
   "language": "java",
   "name": "java"
  },
  "language_info": {
   "codemirror_mode": "java",
   "file_extension": ".jshell",
   "mimetype": "text/x-java-source",
   "name": "java",
   "pygments_lexer": "java",
   "version": "11.0.16+8-post-Ubuntu-0ubuntu120.04"
  },
  "orig_nbformat": 4,
  "vscode": {
   "interpreter": {
    "hash": "916dbcbb3f70747c44a77c7bcd40155683ae19c65e1c03b4aa3499c5328201f1"
   }
  }
 },
 "nbformat": 4,
 "nbformat_minor": 2
}
