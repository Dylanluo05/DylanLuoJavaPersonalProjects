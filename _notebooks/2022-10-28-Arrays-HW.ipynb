{
 "cells": [
  {
   "cell_type": "markdown",
   "metadata": {},
   "source": [
    "# Arrays HW Post\n",
    "> Arrays HW\n",
    "\n",
    "- toc: true\n",
    "- description: Arrays HW post for AP CSA\n",
    "- categories: [jupyter]\n",
    "- title: Arrays HW Post\n",
    "- author: Dylan Luo\n",
    "- show_tags: true\n",
    "- comments: true"
   ]
  },
  {
   "cell_type": "code",
   "execution_count": 10,
   "metadata": {},
   "outputs": [
    {
     "name": "stdout",
     "output_type": "stream",
     "text": [
      "Original Array:\n",
      "1 2 3 4 5 \n",
      "First and Last Value Swapped:\n",
      "5 2 3 4 1 \n",
      "All Even Elements are 0:\n",
      "1 0 3 0 5 \n"
     ]
    }
   ],
   "source": [
    "import java.util.Arrays;\n",
    "\n",
    "public class ArrayMethods {\n",
    "    public static void main(String[] args) {\n",
    "        int[] array = {1, 2, 3, 4, 5};\n",
    "        System.out.println(\"Original Array:\");\n",
    "        for (int i = 0; i < array.length; i++) {\n",
    "            System.out.print(array[i] + \" \");\n",
    "        }\n",
    "        System.out.println(\"\");\n",
    "\n",
    "        int[] array2 = new int[]{};\n",
    "        array2 = Arrays.copyOf(array, array.length);\n",
    "        int indexFirst = 0;\n",
    "        int indexLast = array2.length - 1;\n",
    "        int temp = array2[indexLast];\n",
    "        array2[indexLast] = array2[indexFirst];\n",
    "        array2[indexFirst] = temp;\n",
    "        System.out.println(\"First and Last Value Swapped:\");\n",
    "        for (int i = 0; i < array2.length; i++) {\n",
    "            System.out.print(array2[i] + \" \");\n",
    "        }\n",
    "        System.out.println(\"\");\n",
    "\n",
    "        int[] array3 = new int[]{};\n",
    "        array3 = Arrays.copyOf(array, array.length);\n",
    "        for (int i = 1; i < array3.length; i += 2) {\n",
    "            array3[i] = 0;\n",
    "        }\n",
    "        System.out.println(\"All Even Elements are 0:\");\n",
    "        for (int i = 0; i < array3.length; i++) {\n",
    "            System.out.print(array3[i] + \" \");\n",
    "        }\n",
    "        System.out.println(\"\");\n",
    "    }\n",
    "}\n",
    "\n",
    "ArrayMethods.main(null);"
   ]
  }
 ],
 "metadata": {
  "kernelspec": {
   "display_name": "Java",
   "language": "java",
   "name": "java"
  },
  "language_info": {
   "codemirror_mode": "java",
   "file_extension": ".jshell",
   "mimetype": "text/x-java-source",
   "name": "java",
   "pygments_lexer": "java",
   "version": "11.0.16+8-post-Ubuntu-0ubuntu120.04"
  },
  "orig_nbformat": 4,
  "vscode": {
   "interpreter": {
    "hash": "916dbcbb3f70747c44a77c7bcd40155683ae19c65e1c03b4aa3499c5328201f1"
   }
  }
 },
 "nbformat": 4,
 "nbformat_minor": 2
}
