{
 "cells": [
  {
   "cell_type": "markdown",
   "metadata": {},
   "source": [
    "# Primitive Types HW Post\n",
    "> Primitive Types HW\n",
    "\n",
    "- toc: true\n",
    "- description: Primitive Types HW post for AP CSA\n",
    "- categories: [jupyter]\n",
    "- title: Primitives Types HW Post\n",
    "- author: Dylan Luo\n",
    "- show_tags: true\n",
    "- comments: true"
   ]
  },
  {
   "cell_type": "markdown",
   "metadata": {},
   "source": [
    "2006 FRQ 2a"
   ]
  },
  {
   "cell_type": "code",
   "execution_count": 17,
   "metadata": {},
   "outputs": [
    {
     "name": "stdout",
     "output_type": "stream",
     "text": [
      "2006 FRQ Part 2a\n",
      "Is the item taxable? (y/n)\n",
      "What is the tax rate percentage?\n",
      "Enter the list price of the item in dollars\n",
      "The final price of the item is: 1520.0\n"
     ]
    }
   ],
   "source": [
    "import java.util.Scanner;\n",
    "\n",
    "public class TaxableItem {\n",
    "    public void run() {\n",
    "        System.out.println(\"2006 FRQ Part 2a\");\n",
    "        Scanner numInput1 = new Scanner(System.in);\n",
    "        Scanner stringInput = new Scanner(System.in);\n",
    "        System.out.println(\"Is the item taxable? (y/n)\");\n",
    "        String isTaxable = stringInput.nextLine();\n",
    "        String isTaxableNew = isTaxable.toLowerCase();\n",
    "        if (isTaxableNew.equals(\"y\")) {\n",
    "            System.out.println(\"What is the tax rate percentage?\");\n",
    "            int taxRate = numInput1.nextInt();\n",
    "            purchasePrice(taxRate);\n",
    "        } else if (isTaxableNew.equals(\"n\")) {\n",
    "            purchasePrice(0);\n",
    "        }\n",
    "    }\n",
    "    public double purchasePrice(double taxRate) { \n",
    "        Scanner numInput2 = new Scanner(System.in);\n",
    "        System.out.println(\"Enter the list price of the item in dollars:\");\n",
    "        double listPrice = numInput2.nextDouble();\n",
    "        double finalPrice = (listPrice) + (listPrice * (taxRate/100));\n",
    "        System.out.println(\"The final price of the item is: \" + finalPrice);\n",
    "        return finalPrice;\n",
    "    }\n",
    "} \n",
    "\n",
    "public class runProgram {\n",
    "    public static void main(String[] args) {\n",
    "        TaxableItem t = new TaxableItem();\n",
    "        t.run();\n",
    "    }\n",
    "}\n",
    "\n",
    "runProgram.main(null);"
   ]
  }
 ],
 "metadata": {
  "kernelspec": {
   "display_name": "Java",
   "language": "java",
   "name": "java"
  },
  "language_info": {
   "codemirror_mode": "java",
   "file_extension": ".jshell",
   "mimetype": "text/x-java-source",
   "name": "java",
   "pygments_lexer": "java",
   "version": "11.0.16+8-post-Ubuntu-0ubuntu120.04"
  },
  "orig_nbformat": 4,
  "vscode": {
   "interpreter": {
    "hash": "916dbcbb3f70747c44a77c7bcd40155683ae19c65e1c03b4aa3499c5328201f1"
   }
  }
 },
 "nbformat": 4,
 "nbformat_minor": 2
}
