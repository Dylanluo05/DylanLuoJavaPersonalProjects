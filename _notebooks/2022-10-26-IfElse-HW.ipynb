{
 "cells": [
  {
   "cell_type": "markdown",
   "metadata": {},
   "source": [
    "# Boolean Expressions and If Else Statements HW Post\n",
    "> Boolean Expressions and If Else Statements HW\n",
    "\n",
    "- toc: true\n",
    "- description: Boolean expressions and if else statements post for AP CSA\n",
    "- categories: [jupyter]\n",
    "- title: Boolean Expressions and If Else Statements Post\n",
    "- author: Dylan Luo\n",
    "- show_tags: true\n",
    "- comments: true"
   ]
  },
  {
   "cell_type": "markdown",
   "metadata": {},
   "source": [
    "2017 FRQ 1b"
   ]
  },
  {
   "cell_type": "code",
   "execution_count": null,
   "metadata": {},
   "outputs": [],
   "source": [
    "public class IfElse {\n",
    "    public boolean isStrictlyIncreasing() {\n",
    "        for(int i = 1; i < digitList.size(); i++) {\n",
    "            if (digitList.get(i - 1).compareTo(digitList.get(i)) >= 0) {\n",
    "                return false;\n",
    "            }\n",
    "        }\n",
    "        return true;\n",
    "    }   \n",
    "}\n",
    "\n",
    "/*public class runProgram {\n",
    "    public static void main(String[] args) {\n",
    "        \n",
    "    }\n",
    "}\n",
    "\n",
    "runProgram.main(null);*/"
   ]
  }
 ],
 "metadata": {
  "kernelspec": {
   "display_name": "Java",
   "language": "java",
   "name": "java"
  },
  "language_info": {
   "name": "java",
   "version": "3.8.10"
  },
  "orig_nbformat": 4,
  "vscode": {
   "interpreter": {
    "hash": "916dbcbb3f70747c44a77c7bcd40155683ae19c65e1c03b4aa3499c5328201f1"
   }
  }
 },
 "nbformat": 4,
 "nbformat_minor": 2
}
